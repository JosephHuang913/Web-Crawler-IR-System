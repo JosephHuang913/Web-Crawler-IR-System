{
 "cells": [
  {
   "cell_type": "markdown",
   "metadata": {},
   "source": [
    "# mobile01 爬蟲電腦版"
   ]
  },
  {
   "cell_type": "code",
   "execution_count": 17,
   "metadata": {},
   "outputs": [],
   "source": [
    "import requests\n",
    "from bs4 import BeautifulSoup\n",
    "import numpy as np\n",
    "import pandas as pd\n",
    "from tqdm import tqdm\n",
    "import matplotlib.pyplot as plt\n",
    "from collections import Counter\n",
    "\n",
    "#matplotlib有時顯示中文會變成框框，先對字形進行設置\n",
    "import matplotlib\n",
    "#載入matplotlib完整庫\n",
    "matplotlib.rcParams['font.family']='Microsoft Yahei'\n",
    "#字型，改為微軟雅黑，預設 sans-serif\n",
    "matplotlib.rcParams['font.size']=12\n",
    "#字型大小，整數字號，預設12"
   ]
  },
  {
   "cell_type": "code",
   "execution_count": null,
   "metadata": {},
   "outputs": [],
   "source": [
    "title = []\n",
    "authors = []\n",
    "time=[]\n",
    "respond = []\n",
    "last_respond = []\n",
    "for j in tqdm(range(3)):\n",
    "    myHeaders={'user-agent': 'my-app/0.0.1'}\n",
    "    #r=requests.get('https://www.mobile01.com/topiclist.php?f=563&p='+str(j+1),headers=myHeaders)\n",
    "    r=requests.get('https://www.mobile01.com/marketcommoditylist.php?f=606&p='+str(j+1),headers=myHeaders)\n",
    "    sp=BeautifulSoup(r.text,'html.parser')\n",
    "    datas = sp.find_all('a',{'class':\"c-link u-ellipsis\"})\n",
    "    data2s = sp.find_all('div',{'class':\"o-fNotes\"})\n",
    "    data3s = sp.find_all('div',{'class':\"o-fMini\"})\n",
    "    temp=[]\n",
    "    temp2=[]\n",
    "    for data in datas:\n",
    "        temp.append(data.text)\n",
    "    for i in range(int(len(temp)/3)):\n",
    "        title.append(temp[0+i*3])\n",
    "        authors.append(temp[1+i*3])\n",
    "    for data2 in data2s:\n",
    "        temp2.append(data2.text)\n",
    "    for i in range(int(len(temp2)/2)):\n",
    "        time.append(temp2[0+i][0:4])\n",
    "        last_respond.append(temp2[1+i])\n",
    "    for data3 in data3s:\n",
    "        respond.append(data3.text)\n",
    "result = pd.DataFrame()\n",
    "result['title'] = title\n",
    "result['authors'] = authors\n",
    "result['time'] = time\n",
    "result['last_respond']= last_respond\n",
    "result['respond'] = respond"
   ]
  },
  {
   "cell_type": "code",
   "execution_count": 25,
   "metadata": {},
   "outputs": [],
   "source": [
    "myHeaders={'User-Agent': 'Chrome'}\n",
    "r=requests.get('https://www.mobile01.com/topiclist.php?f=563&p=1',headers=myHeaders)\n",
    "#r=requests.get('https://www.mobile01.com/marketcommoditylist.php?f=606&p=2',headers=myHeaders)"
   ]
  },
  {
   "cell_type": "code",
   "execution_count": 27,
   "metadata": {},
   "outputs": [],
   "source": [
    "sp=BeautifulSoup(r.text,'html.parser')"
   ]
  },
  {
   "cell_type": "code",
   "execution_count": null,
   "metadata": {},
   "outputs": [],
   "source": []
  }
 ],
 "metadata": {
  "kernelspec": {
   "display_name": "Python 3",
   "language": "python",
   "name": "python3"
  },
  "language_info": {
   "codemirror_mode": {
    "name": "ipython",
    "version": 3
   },
   "file_extension": ".py",
   "mimetype": "text/x-python",
   "name": "python",
   "nbconvert_exporter": "python",
   "pygments_lexer": "ipython3",
   "version": "3.6.9"
  }
 },
 "nbformat": 4,
 "nbformat_minor": 2
}
